{
 "cells": [
  {
   "cell_type": "markdown",
   "id": "c16b5de5",
   "metadata": {},
   "source": [
    "## Shorthands & Store\n",
    "\n",
    "To assist you with the development we added various shorthands that will make your code more compact. And we also added the store function, which enables you to save a chart state into a variable that you can reuse later instead of setting up that state once again."
   ]
  },
  {
   "cell_type": "markdown",
   "id": "36422426",
   "metadata": {},
   "source": [
    "**Note:** The data used in this tutorial is available [here](https://github.com/vizzuhq/ipyvizzu/blob/gh-pages/docs/tutorial/music_data.json). You can read more about the available types of data in the [Adding data](./01_02_adding_data.ipynb) chapter."
   ]
  },
  {
   "cell_type": "code",
   "execution_count": null,
   "id": "a0c85db1",
   "metadata": {},
   "outputs": [],
   "source": [
    "from ipyvizzu import Chart, Data, Config, Style\n",
    "\n",
    "\n",
    "data = Data.from_json(\"./music_data.json\")\n",
    "\n",
    "\n",
    "chart = Chart()\n",
    "\n",
    "chart.animate(data)\n",
    "\n",
    "chart.animate(\n",
    "    Config(\n",
    "        {\n",
    "            \"channels\": {\"y\": {\"set\": [\"Popularity\", \"Kinds\"]}, \"x\": {\"set\": \"Genres\"}},\n",
    "            \"label\": {\"attach\": \"Popularity\"},\n",
    "            \"color\": {\"set\": \"Kinds\"},\n",
    "        }\n",
    "    )\n",
    ")\n",
    "\n",
    "chart.animate(\n",
    "    Config(\n",
    "        {\n",
    "            \"align\": \"stretch\",\n",
    "        }\n",
    "    )\n",
    ")\n",
    "\n",
    "# Let's save this state by calling the `chart.store()` function.\n",
    "\n",
    "snapshot1 = chart.store()"
   ]
  },
  {
   "cell_type": "markdown",
   "id": "b8a53c7f",
   "metadata": {},
   "source": [
    "If you set/attach/detach just one series on a channel, you don't have to put that series into an array."
   ]
  },
  {
   "cell_type": "code",
   "execution_count": null,
   "id": "4baef4ee",
   "metadata": {},
   "outputs": [],
   "source": [
    "chart.animate(snapshot1)\n",
    "\n",
    "chart.animate(\n",
    "    Config(\n",
    "        {\n",
    "            \"channels\": {\n",
    "                # \"x\": { \"attach\": [ \"Kinds\" ] },\n",
    "                \"x\": {\"attach\": \"Kinds\"},\n",
    "                \"y\": {\"detach\": \"Kinds\"},\n",
    "            },\n",
    "            \"align\": \"none\",\n",
    "        }\n",
    "    )\n",
    ")\n",
    "\n",
    "snapshot2 = chart.store()"
   ]
  },
  {
   "cell_type": "markdown",
   "id": "93cb8459",
   "metadata": {},
   "source": [
    "If you use set on a channel and no other options like range, you don't have to express that channel as an object. If you only set one series on a channel you can simply write the series' name after the channel name."
   ]
  },
  {
   "cell_type": "code",
   "execution_count": null,
   "id": "26d2136a",
   "metadata": {},
   "outputs": [],
   "source": [
    "chart.animate(snapshot2)\n",
    "\n",
    "chart.animate(\n",
    "    Config(\n",
    "        {\n",
    "            \"channels\": {\n",
    "                # \"y\": { \"set\": [ \"Kinds\", \"Popularity\" ] },\n",
    "                \"y\": [\"Kinds\", \"Popularity\"],\n",
    "                \"x\": \"Genres\",\n",
    "            }\n",
    "        }\n",
    "    )\n",
    ")\n",
    "\n",
    "snapshot3 = chart.store()"
   ]
  },
  {
   "cell_type": "markdown",
   "id": "5e52cc23",
   "metadata": {},
   "source": [
    "In any case, you can simply omit the the channel object, Vizzu will automatically recognize the channels by their names."
   ]
  },
  {
   "cell_type": "code",
   "execution_count": null,
   "id": "ce22fd80",
   "metadata": {},
   "outputs": [],
   "source": [
    "chart.animate(snapshot3)\n",
    "\n",
    "chart.animate(\n",
    "    Config(\n",
    "        {\n",
    "            # \"channels\": {\n",
    "            \"y\": \"Kinds\",\n",
    "            \"x\": [\"Genres\", \"Popularity\"]\n",
    "            # }\n",
    "        }\n",
    "    )\n",
    ")\n",
    "\n",
    "snapshot4 = chart.store()"
   ]
  },
  {
   "cell_type": "markdown",
   "id": "70c99575",
   "metadata": {},
   "source": [
    "Instead of creating nested objects, you can set the styles like this."
   ]
  },
  {
   "cell_type": "code",
   "execution_count": null,
   "id": "cce552fc",
   "metadata": {},
   "outputs": [],
   "source": [
    "chart.animate(snapshot4)\n",
    "\n",
    "chart.animate(\n",
    "    Style(\n",
    "        {\n",
    "            # \"plot\": { \"xAxis\": { \"label\": { \"fontSize\": \"150%\" } } },\n",
    "            \"plot.xAxis.label.fontSize\": \"150%\",\n",
    "            \"title.backgroundColor\": \"#A0A0A0\",\n",
    "        }\n",
    "    )\n",
    ")\n",
    "\n",
    "snapshot5 = chart.store()"
   ]
  },
  {
   "cell_type": "markdown",
   "id": "553cc7e1",
   "metadata": {},
   "source": [
    "This is how you can get back to a state that you previously stored."
   ]
  },
  {
   "cell_type": "code",
   "execution_count": null,
   "id": "478b6eee",
   "metadata": {},
   "outputs": [],
   "source": [
    "chart.animate(snapshot5)\n",
    "\n",
    "chart.animate(snapshot1)"
   ]
  },
  {
   "cell_type": "markdown",
   "id": "da4db797",
   "metadata": {},
   "source": [
    "Previous chapter: [Events](./01_17_events.ipynb) ----- Back to the [Table of contents](../doc.ipynb#tutorial)"
   ]
  }
 ],
 "metadata": {
  "kernelspec": {
   "display_name": ".venv",
   "language": "python",
   "name": ".venv"
  },
  "language_info": {
   "codemirror_mode": {
    "name": "ipython",
    "version": 3
   },
   "file_extension": ".py",
   "mimetype": "text/x-python",
   "name": "python",
   "nbconvert_exporter": "python",
   "pygments_lexer": "ipython3",
   "version": "3.8.10"
  },
  "title": "ipyvizzu - Shorthands & Store"
 },
 "nbformat": 4,
 "nbformat_minor": 5
}
