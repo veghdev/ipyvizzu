{
 "cells": [
  {
   "cell_type": "markdown",
   "id": "f35419cc",
   "metadata": {},
   "source": [
    "## Events\n",
    "\n",
    "You can register handlers for various events. There are mouse events (click, mouseon), animation events (begin, update, complete), and rendering events that are called before rendering the chart elements. Handlers can be registered/unregistered with the on(), off() method pair.\n",
    "\n",
    "**Note:** Currently `chart.on(event, handler)` only accept handler's JavaScript expression as string. Event can be accessed via `event` object, see the examples below.\n",
    "\n",
    "We are registering a handler for the click event which will show an alert block with information about the clicked marker."
   ]
  },
  {
   "cell_type": "markdown",
   "id": "596f3074",
   "metadata": {},
   "source": [
    "**Note:** The data used in this tutorial is available [here](https://github.com/vizzuhq/ipyvizzu/blob/gh-pages/docs/tutorial/music_data.json). You can read more about the available types of data in the [Adding data](./01_02_adding_data.ipynb) chapter."
   ]
  },
  {
   "cell_type": "code",
   "execution_count": null,
   "id": "c6ba8deb",
   "metadata": {},
   "outputs": [],
   "source": [
    "from ipyvizzu import Chart, Data, Config\n",
    "\n",
    "\n",
    "data = Data.from_json(\"./music_data.json\")\n",
    "\n",
    "\n",
    "click_chart = Chart()\n",
    "\n",
    "click_chart.animate(data)\n",
    "\n",
    "\n",
    "click_handler_method = \"alert(JSON.stringify(event.data));\"\n",
    "\n",
    "click_handler = click_chart.on(\"click\", click_handler_method)\n",
    "\n",
    "\n",
    "click_chart.animate(\n",
    "    Config(\n",
    "        {\n",
    "            \"channels\": {\"y\": {\"set\": [\"Popularity\", \"Kinds\"]}, \"x\": {\"set\": \"Genres\"}},\n",
    "            \"label\": {\"attach\": \"Popularity\"},\n",
    "            \"color\": {\"set\": \"Kinds\"},\n",
    "            \"title\": \"Click on a column!\",\n",
    "        }\n",
    "    )\n",
    ")"
   ]
  },
  {
   "cell_type": "markdown",
   "id": "e399527e",
   "metadata": {},
   "source": [
    "Unregistering the previously registered handler."
   ]
  },
  {
   "cell_type": "code",
   "execution_count": null,
   "id": "1a0cc136",
   "metadata": {},
   "outputs": [],
   "source": [
    "# click_chart.off(click_handler)"
   ]
  },
  {
   "cell_type": "markdown",
   "id": "8ce0776f",
   "metadata": {},
   "source": [
    "Here we override the axis label color for 'Jazz' to red and all others to gray."
   ]
  },
  {
   "cell_type": "code",
   "execution_count": null,
   "id": "57126314",
   "metadata": {},
   "outputs": [],
   "source": [
    "label_chart = Chart()\n",
    "\n",
    "label_chart.animate(data)\n",
    "\n",
    "\n",
    "label_draw_handler_method = \"\"\"event.renderingContext.fillStyle = \n",
    "    (event.data.text === 'Jazz') ? 'red' : 'gray';\"\"\"\n",
    "\n",
    "label_draw_handler = label_chart.on(\"plot-axis-label-draw\", label_draw_handler_method)\n",
    "\n",
    "\n",
    "label_chart.animate(\n",
    "    Config(\n",
    "        {\n",
    "            \"channels\": {\"y\": {\"set\": [\"Popularity\", \"Kinds\"]}, \"x\": {\"set\": \"Genres\"}},\n",
    "            \"label\": {\"attach\": \"Popularity\"},\n",
    "            \"color\": {\"set\": \"Kinds\"},\n",
    "            \"title\": \"Look at the color of Jazz label!\",\n",
    "        }\n",
    "    )\n",
    ")"
   ]
  },
  {
   "cell_type": "markdown",
   "id": "a3881bc6",
   "metadata": {},
   "source": [
    "Unregistering the previously registered handler."
   ]
  },
  {
   "cell_type": "code",
   "execution_count": null,
   "id": "555e5ee9",
   "metadata": {},
   "outputs": [],
   "source": [
    "# label_chart.off(label_draw_handler)"
   ]
  },
  {
   "cell_type": "markdown",
   "id": "73032180",
   "metadata": {},
   "source": [
    "The default behaviour of all events can be blocked by calling the event's preventDefault() method. Here we block the drawing of the Vizzu Logo in the bottom right corner of the chart."
   ]
  },
  {
   "cell_type": "code",
   "execution_count": null,
   "id": "f6d24f89",
   "metadata": {},
   "outputs": [],
   "source": [
    "logo_chart = Chart()\n",
    "\n",
    "logo_chart.animate(data)\n",
    "\n",
    "\n",
    "logo_draw_handler_method = \"event.preventDefault();\"\n",
    "\n",
    "logo_draw_handler = logo_chart.on(\"logo-draw\", logo_draw_handler_method)\n",
    "\n",
    "\n",
    "logo_chart.animate(\n",
    "    Config(\n",
    "        {\n",
    "            \"channels\": {\"y\": {\"set\": [\"Popularity\", \"Kinds\"]}, \"x\": {\"set\": \"Genres\"}},\n",
    "            \"label\": {\"attach\": \"Popularity\"},\n",
    "            \"color\": {\"set\": \"Kinds\"},\n",
    "            \"title\": \"Block the drawing of the Vizzu Logo\",\n",
    "        }\n",
    "    )\n",
    ")"
   ]
  },
  {
   "cell_type": "markdown",
   "id": "22a8d337",
   "metadata": {},
   "source": [
    "Unregistering the previously registered handler."
   ]
  },
  {
   "cell_type": "code",
   "execution_count": null,
   "id": "e45e4de0",
   "metadata": {},
   "outputs": [],
   "source": [
    "# logo_chart.off(logo_draw_handler)"
   ]
  },
  {
   "cell_type": "markdown",
   "id": "c5bce199",
   "metadata": {},
   "source": [
    "Next chapter: [Shorthands & Store](./01_18_shorthands_store.ipynb) ----- Previous chapter: [Animation options](./01_15_animation_options.ipynb) ----- Back to the [Table of contents](../doc.ipynb#tutorial)"
   ]
  }
 ],
 "metadata": {
  "kernelspec": {
   "display_name": ".venv",
   "language": "python",
   "name": ".venv"
  },
  "language_info": {
   "codemirror_mode": {
    "name": "ipython",
    "version": 3
   },
   "file_extension": ".py",
   "mimetype": "text/x-python",
   "name": "python",
   "nbconvert_exporter": "python",
   "pygments_lexer": "ipython3",
   "version": "3.8.10"
  },
  "title": "ipyvizzu - Events"
 },
 "nbformat": 4,
 "nbformat_minor": 5
}
