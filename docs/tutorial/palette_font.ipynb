{
 "cells": [
  {
   "cell_type": "markdown",
   "id": "8518ab11",
   "metadata": {},
   "source": [
    "## Color palette & fonts\n",
    "\n",
    "This and the next chapter provide a quick intro to the styling of the charts. You can either use the style property like in the following examples or use CSS. By using CSS, it's easier to set the same style for multiple charts on one page or re-use style settings.\n",
    "\n",
    "If you use CSS, don't change the set parameters later on via the style property.\n",
    "\n",
    "The font sizes automatically adjust to the chart size to help readability, and can also be set separately or for specific groups.\n",
    "\n",
    "The color palette is changed to the colors we add here. The order of the dimension’s items in the data set determine which color belongs to which item as the colors are added one-by-one. If you want to use the same setting via CSS, you should add --vizzu-plot-marker-colorPalette: #9355e8FF #123456FF #BDAF10FF;"
   ]
  },
  {
   "cell_type": "markdown",
   "id": "01eaf371",
   "metadata": {},
   "source": [
    "Note: The data used in this tutorial is available [here](https://github.com/vizzuhq/ipyvizzu/blob/gh-pages/docs/tutorial/music_data.json). You can read more about the available types of data in the [Adding data](./data.ipynb) chapter."
   ]
  },
  {
   "cell_type": "code",
   "execution_count": null,
   "id": "b0552636",
   "metadata": {},
   "outputs": [],
   "source": [
    "from ipyvizzu import Chart, Data, Config, Style\n",
    "\n",
    "chart = Chart()\n",
    "\n",
    "data = Data.from_json(\"./music_data.json\")\n",
    "\n",
    "chart.animate(data)\n",
    "\n",
    "chart.animate(Config({\n",
    "    \"channels\": {\n",
    "        \"y\": {\n",
    "            \"set\": [\"Popularity\", \"Kinds\"]\n",
    "        }, \n",
    "        \"x\": {\n",
    "            \"set\": \"Genres\"\n",
    "        }\n",
    "    }, \n",
    "    \"label\": {\n",
    "        \"attach\": \"Popularity\"\n",
    "    },\n",
    "    \"color\": {\n",
    "        \"set\": \"Kinds\"\n",
    "    },\n",
    "    \"title\": \"Color palette\"\n",
    "}))\n",
    "\n",
    "chart.animate(Style({\n",
    "    \"plot\": {\n",
    "        \"marker\": {\n",
    "            \"colorPalette\": \"#9355e8FF #123456FF #BDAF10FF\"\n",
    "        }\n",
    "    }\n",
    "}))\n",
    "\n",
    "snapshot1 = chart.store()"
   ]
  },
  {
   "cell_type": "markdown",
   "id": "00bf9cba",
   "metadata": {},
   "source": [
    "Changing the title font size will only affect the title; all other font sizes remain the same. CSS version: --vizzu-title-fontSize: 50;"
   ]
  },
  {
   "cell_type": "code",
   "execution_count": null,
   "id": "9a7fe9b8",
   "metadata": {},
   "outputs": [],
   "source": [
    "chart.animate(snapshot1)\n",
    "\n",
    "chart.animate(Config({\"title\": \"Title font size\"}))\n",
    "\n",
    "chart.animate(Style({\n",
    "    \"title\": {\n",
    "        \"fontSize\": 50\n",
    "    }\n",
    "}))\n",
    "\n",
    "snapshot2 = chart.store()"
   ]
  },
  {
   "cell_type": "markdown",
   "id": "fa329122",
   "metadata": {},
   "source": [
    "This is how to set the font size back to its default value."
   ]
  },
  {
   "cell_type": "code",
   "execution_count": null,
   "id": "88fa24a8",
   "metadata": {},
   "outputs": [],
   "source": [
    "chart.animate(snapshot2)\n",
    "\n",
    "chart.animate(Config({\"title\": \"Title font size - back to default\"}))\n",
    "\n",
    "chart.animate(Style({\n",
    "    \"title\": {\n",
    "        \"fontSize\": None\n",
    "    }\n",
    "}))\n",
    "\n",
    "snapshot3 = chart.store()"
   ]
  },
  {
   "cell_type": "markdown",
   "id": "3d68c376",
   "metadata": {},
   "source": [
    "In case you change the font size of the whole chart with the top-level fontSize parameter then every font on the chart will grow/shrink proportionally. The size refers to the font size of the axis labels by default."
   ]
  },
  {
   "cell_type": "code",
   "execution_count": null,
   "id": "c7e60196",
   "metadata": {},
   "outputs": [],
   "source": [
    "chart.animate(snapshot3)\n",
    "\n",
    "chart.animate(Config({\"title\": \"Setting all font sizes in one step\"}))\n",
    "\n",
    "chart.animate(Style({\n",
    "    \"fontSize\": 20\n",
    "}))\n",
    "\n",
    "snapshot4 = chart.store()"
   ]
  },
  {
   "cell_type": "markdown",
   "id": "b45e96b6",
   "metadata": {},
   "source": [
    "You can reset styles to default on any levels by setting them to null."
   ]
  },
  {
   "cell_type": "code",
   "execution_count": null,
   "id": "d58b14d9",
   "metadata": {},
   "outputs": [],
   "source": [
    "chart.animate(snapshot4)\n",
    "\n",
    "chart.animate(Config({\"title\": \"Setting all style settings back to default\"}))\n",
    "\n",
    "chart.animate(Style(None))"
   ]
  },
  {
   "cell_type": "markdown",
   "id": "da8123f6",
   "metadata": {},
   "source": [
    "Next chapter: [Chart layout](./layout.ipynb) ----- Previous chapter: [Without coordinates & noop channel](./without_coordinates.ipynb) ----- Back to the [Table of contents](../doc.ipynb#tutorial)"
   ]
  }
 ],
 "metadata": {
  "kernelspec": {
   "display_name": ".venv",
   "language": "python",
   "name": ".venv"
  },
  "language_info": {
   "codemirror_mode": {
    "name": "ipython",
    "version": 3
   },
   "file_extension": ".py",
   "mimetype": "text/x-python",
   "name": "python",
   "nbconvert_exporter": "python",
   "pygments_lexer": "ipython3",
   "version": "3.8.10"
  },
  "title": "ipyvizzu - Color palette & fonts"
 },
 "nbformat": 4,
 "nbformat_minor": 5
}
