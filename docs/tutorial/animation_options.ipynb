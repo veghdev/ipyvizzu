{
 "cells": [
  {
   "cell_type": "markdown",
   "id": "8518ab11",
   "metadata": {},
   "source": [
    "## Animation options\n",
    "\n",
    "In Vizzu you can set the timing and duration of the animation. You can do this either for the whole animation, or for animation groups such as the elements moving along the x-axis or the y-axis, appearing or disappearing or when the coordinate system is changed.\n",
    "\n",
    "Let’s see first a simple example when a stacked column chart is grouped using the default animation options."
   ]
  },
  {
   "cell_type": "markdown",
   "id": "090eb621",
   "metadata": {},
   "source": [
    "Note: The data used in this tutorial is available [here](https://github.com/vizzuhq/ipyvizzu/blob/gh-pages/docs/tutorial/music_data.json). You can read more about the available types of data in the [Adding data](./data.ipynb) chapter."
   ]
  },
  {
   "cell_type": "code",
   "execution_count": null,
   "id": "b0552636",
   "metadata": {},
   "outputs": [],
   "source": [
    "from ipyvizzu import Chart, Data, Config\n",
    "\n",
    "chart = Chart()\n",
    "\n",
    "data = Data.from_json(\"./music_data.json\")\n",
    "\n",
    "chart.animate(data)\n",
    "\n",
    "chart.animate(Config({\n",
    "    \"channels\": {\n",
    "        \"y\": {\n",
    "            \"set\": [\"Popularity\", \"Kinds\"]\n",
    "        }, \n",
    "        \"x\": {\n",
    "            \"set\": \"Genres\"\n",
    "        }\n",
    "    }, \n",
    "    \"label\": {\n",
    "        \"attach\": \"Popularity\"\n",
    "    },\n",
    "    \"color\": {\n",
    "        \"set\": \"Kinds\"\n",
    "    },\n",
    "    \"title\": \"Default options - step 1\"\n",
    "}))\n",
    "\n",
    "chart.animate(Config({\n",
    "    \"channels\": {\n",
    "        \"y\": {\n",
    "            \"detach\": \"Kinds\"\n",
    "        }, \n",
    "        \"x\": {\n",
    "            \"attach\": \"Kinds\"\n",
    "        }\n",
    "    }\n",
    "}))\n",
    "\n",
    "snapshot1 = chart.store()"
   ]
  },
  {
   "cell_type": "markdown",
   "id": "703a28af",
   "metadata": {},
   "source": [
    "We stack the columns, still with the default options."
   ]
  },
  {
   "cell_type": "code",
   "execution_count": null,
   "id": "ebce53a8",
   "metadata": {},
   "outputs": [],
   "source": [
    "chart.animate(snapshot1)\n",
    "\n",
    "chart.animate(Config({\"title\": \"Default options - step 2\"}))\n",
    "\n",
    "chart.animate(Config({\n",
    "    \"channels\": {\n",
    "        \"x\": {\n",
    "            \"detach\": \"Kinds\"\n",
    "        }, \n",
    "        \"y\": {\n",
    "            \"attach\": \"Kinds\"\n",
    "        }\n",
    "    }\n",
    "}))\n",
    "\n",
    "snapshot2 = chart.store()"
   ]
  },
  {
   "cell_type": "markdown",
   "id": "3c5ed3f8",
   "metadata": {},
   "source": [
    "Now we change the animation settings for the elements moving along the y-axis and also the change in styles, more specifically when the labels on the markers move from the center of the chart elements to the top of them."
   ]
  },
  {
   "cell_type": "code",
   "execution_count": null,
   "id": "31c17b7c",
   "metadata": {},
   "outputs": [],
   "source": [
    "chart.animate(snapshot2)\n",
    "\n",
    "chart.animate(Config({\"title\": \"Custom animation settings for specific groups\"}))\n",
    "\n",
    "chart.animate(\n",
    "    Config({\n",
    "        \"channels\": {\n",
    "            \"y\": {\n",
    "                \"detach\": \"Kinds\"\n",
    "            }, \n",
    "            \"x\": {\n",
    "                \"attach\": \"Kinds\"\n",
    "            }\n",
    "        }\n",
    "    }),\n",
    "    y={\n",
    "        \"duration\": 2,\n",
    "        \"delay\": 2\n",
    "    },\n",
    "    style={\n",
    "        \"duration\": 2,\n",
    "        \"delay\": 4\n",
    "    }\n",
    ")\n",
    "\n",
    "snapshot3 = chart.store()"
   ]
  },
  {
   "cell_type": "markdown",
   "id": "0ea85836",
   "metadata": {},
   "source": [
    "This is an example of changing the settings for the whole animation at once."
   ]
  },
  {
   "cell_type": "code",
   "execution_count": null,
   "id": "b835da76",
   "metadata": {},
   "outputs": [],
   "source": [
    "chart.animate(snapshot3)\n",
    "\n",
    "chart.animate(Config({\"title\": \"Custom options for the whole animation\"}))\n",
    "\n",
    "chart.animate(\n",
    "    Config({\n",
    "        \"channels\": {\n",
    "            \"x\": {\n",
    "                \"detach\": \"Kinds\"\n",
    "            }, \n",
    "            \"y\": {\n",
    "                \"attach\": \"Kinds\"\n",
    "            }\n",
    "        }\n",
    "    }),\n",
    "    duration=1,\n",
    "    easing=\"linear\"\n",
    ")\n",
    "\n",
    "snapshot4 = chart.store()"
   ]
  },
  {
   "cell_type": "markdown",
   "id": "7397ac85",
   "metadata": {},
   "source": [
    "When the two settings are combined, Vizzu will use the general animation options and spread the unique settings for specific groups proportionally. This is why you can see the same animation as two steps before but happening much quicker since the duration of the whole animation is set to 1 second."
   ]
  },
  {
   "cell_type": "code",
   "execution_count": null,
   "id": "b9fe93a3",
   "metadata": {},
   "outputs": [],
   "source": [
    "chart.animate(snapshot4)\n",
    "\n",
    "chart.animate(Config({\"title\": \"Custom settings for both\"}))\n",
    "\n",
    "chart.animate(\n",
    "    Config({\n",
    "        \"channels\": {\n",
    "            \"y\": {\n",
    "                \"detach\": \"Kinds\"\n",
    "            }, \n",
    "            \"x\": {\n",
    "                \"attach\": \"Kinds\"\n",
    "            }\n",
    "        }\n",
    "    }),\n",
    "    duration=1,\n",
    "    easing=\"linear\",\n",
    "    y={\n",
    "        \"duration\": 2,\n",
    "        \"delay\": 2\n",
    "    },\n",
    "    style={\n",
    "        \"duration\": 2,\n",
    "        \"delay\": 4\n",
    "    }\n",
    ")"
   ]
  },
  {
   "cell_type": "markdown",
   "id": "da8123f6",
   "metadata": {},
   "source": [
    "Previous chapter: [Chart layout](./layout.ipynb) ----- Back to the [Table of contents](../doc.ipynb#tutorial)"
   ]
  }
 ],
 "metadata": {
  "kernelspec": {
   "display_name": ".venv",
   "language": "python",
   "name": ".venv"
  },
  "language_info": {
   "codemirror_mode": {
    "name": "ipython",
    "version": 3
   },
   "file_extension": ".py",
   "mimetype": "text/x-python",
   "name": "python",
   "nbconvert_exporter": "python",
   "pygments_lexer": "ipython3",
   "version": "3.8.10"
  },
  "title": "ipyvizzu - Animation options"
 },
 "nbformat": 4,
 "nbformat_minor": 5
}
