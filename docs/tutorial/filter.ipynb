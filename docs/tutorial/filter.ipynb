{
 "cells": [
  {
   "cell_type": "markdown",
   "id": "6dbc8df4",
   "metadata": {},
   "source": [
    "## Filtering & adding new records\n",
    "\n",
    "Filtering enables you to zoom in or out within a chart, allowing the viewer to focus on certain selected elements, or get more context. You can also add new records to the data on the chart which makes it easy to work with real-time sources.\n",
    "\n",
    "**Note:** Currently `Data.filter()` and `Data().set_filter()` only accept JavaScript expression as string. Data fields can be accessed via `record` object, see the examples below.\n",
    "\n",
    "We add two items from the Genres dimension - using the || operator - to the filter, so the chart elements that belong to the other two items will vanish from the chart."
   ]
  },
  {
   "cell_type": "code",
   "execution_count": null,
   "id": "d5da6794",
   "metadata": {},
   "outputs": [],
   "source": [
    "from ipyvizzu import Chart, Data, Config\n",
    "\n",
    "chart = Chart()\n",
    "\n",
    "data = Data()\n",
    "data.add_dimension('Genres', [ 'Pop', 'Rock', 'Jazz', 'Metal'])\n",
    "data.add_dimension('Kinds', [ 'Hard', 'Smooth', 'Experimental' ])\n",
    "data.add_measure(\n",
    "    'Popularity',\n",
    "    [\n",
    "        [114, 96, 78, 52],\n",
    "        [56, 36, 174, 121],\n",
    "        [127, 83, 94, 58],\n",
    "    ]\n",
    ")\n",
    "chart.animate(data)\n",
    "\n",
    "chart.animate(Config({\n",
    "    \"channels\": {\n",
    "        \"y\": {\n",
    "            \"set\": [\"Popularity\", \"Kinds\"]\n",
    "        }, \n",
    "        \"x\": {\n",
    "            \"set\": \"Genres\"\n",
    "        },\n",
    "        \"label\": {\n",
    "            \"attach\": \"Popularity\"\n",
    "        }\n",
    "    },\n",
    "    \"color\": {\n",
    "        \"attach\": \"Kinds\"\n",
    "    },\n",
    "    \"title\": \"Filter by one dimension\"\n",
    "}))\n",
    "\n",
    "filter1 = Data.filter(\"record['Genres'] == 'Pop' || record['Genres'] == 'Metal'\")\n",
    "\n",
    "chart.animate(filter1)\n",
    "\n",
    "snapshot1 = chart.store()"
   ]
  },
  {
   "cell_type": "markdown",
   "id": "33d0a09d",
   "metadata": {},
   "source": [
    "Now we add a cross-filter that includes items from both the Genres and the Kinds dimensions. This way we override the filter from the previous state. If we weren't update the filter, Vizzu would use it in subsequent states."
   ]
  },
  {
   "cell_type": "code",
   "execution_count": null,
   "id": "4807db16",
   "metadata": {},
   "outputs": [],
   "source": [
    "chart.animate(snapshot1)\n",
    "\n",
    "chart.animate(Config({\"title\": \"Filter by two dimensions\"}))\n",
    "\n",
    "filter2 = Data.filter(\"(record['Genres'] == 'Pop' || record['Genres'] == 'Metal') && record['Kinds'] == 'Smooth'\")\n",
    "\n",
    "chart.animate(filter2)\n",
    "\n",
    "snapshot2 = chart.store()"
   ]
  },
  {
   "cell_type": "markdown",
   "id": "b782890b",
   "metadata": {},
   "source": [
    "Switching the filter off to get back to the original view."
   ]
  },
  {
   "cell_type": "code",
   "execution_count": null,
   "id": "6e231d21",
   "metadata": {},
   "outputs": [],
   "source": [
    "chart.animate(snapshot2)\n",
    "\n",
    "chart.animate(Config({\"title\": \"Filter off\"}))\n",
    "\n",
    "chart.animate(Data.filter(None))\n",
    "\n",
    "snapshot3 = chart.store()"
   ]
  },
  {
   "cell_type": "markdown",
   "id": "88243fd6",
   "metadata": {},
   "source": [
    "Here we add another record to the data set and update the chart accordingly."
   ]
  },
  {
   "cell_type": "code",
   "execution_count": null,
   "id": "384d20b1",
   "metadata": {},
   "outputs": [],
   "source": [
    "chart.animate(snapshot3)\n",
    "\n",
    "chart.animate(Config({\"title\": \"Adding new records\"}))\n",
    "\n",
    "data2 = Data()\n",
    "records = [\n",
    "    ['Soul', 'Hard', 91],\n",
    "    ['Soul', 'Smooth', 57],\n",
    "    ['Soul', 'Experimental', 115]\n",
    "]\n",
    "data2.add_records(records)\n",
    "\n",
    "chart.animate(data2)"
   ]
  },
  {
   "cell_type": "markdown",
   "id": "c87444f7",
   "metadata": {},
   "source": [
    "Note: combining this option with the store function makes it easy to update previously configured states with fresh data since this function saves the config and style parameters of the chart into a variable but not the data."
   ]
  },
  {
   "cell_type": "markdown",
   "id": "da8123f6",
   "metadata": {},
   "source": [
    "Next chapter: [Without coordinates & noop channel](./without_coordinates.ipynb) ----- Previous chapter: [Orientation, split & polar](./orientation.ipynb) ----- Back to the [Table of contents](../doc.ipynb#tutorial)"
   ]
  }
 ],
 "metadata": {
  "kernelspec": {
   "display_name": ".venv",
   "language": "python",
   "name": ".venv"
  },
  "language_info": {
   "codemirror_mode": {
    "name": "ipython",
    "version": 3
   },
   "file_extension": ".py",
   "mimetype": "text/x-python",
   "name": "python",
   "nbconvert_exporter": "python",
   "pygments_lexer": "ipython3",
   "version": "3.8.10"
  },
  "title": "ipyvizzu - Filtering & adding new records"
 },
 "nbformat": 4,
 "nbformat_minor": 5
}
