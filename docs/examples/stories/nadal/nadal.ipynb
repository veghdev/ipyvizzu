{
 "cells": [
  {
   "cell_type": "markdown",
   "id": "baf33e3e",
   "metadata": {},
   "source": [
    "**Note:** The data used in this example is available [here](https://github.com/vizzuhq/ipyvizzu/blob/gh-pages/docs/examples/stories/nadal/nadal.csv). You can read more about the available types of data in the [Adding data](../../../tutorial/01_02_adding_data.ipynb) chapter."
   ]
  },
  {
   "cell_type": "code",
   "execution_count": null,
   "id": "1c78bfd7",
   "metadata": {},
   "outputs": [],
   "source": [
    "import pandas as pd\n",
    "from ipyvizzu import Chart, Data, Config, Style, DisplayTarget\n",
    "\n",
    "data_frame = pd.read_csv(\n",
    "    \"./nadal.csv\", dtype={\"Year\": str, \"Round2\": str, \"Order_GS\": str, \"Order_all\": str}\n",
    ")\n",
    "data = Data()\n",
    "data.add_data_frame(data_frame)\n",
    "\n",
    "chart = Chart(display=DisplayTarget.END)\n",
    "chart.animate(data)\n",
    "\n",
    "chart.animate(\n",
    "    data.filter('record.Year != \"Total\"'),\n",
    "    Config(\n",
    "        {\n",
    "            \"x\": \"Year\",\n",
    "            \"y\": \"Round2\",\n",
    "            \"color\": {\"set\": \"Result_Num\", \"range\": {\"min\": -1, \"max\": 1}},\n",
    "            \"size\": None,\n",
    "            \"orientation\": \"horizontal\",\n",
    "            \"geometry\": \"rectangle\",\n",
    "            \"title\": \"Rafael Nadal's matches at the Roland Garros\",\n",
    "            \"legend\": \"size\",\n",
    "        }\n",
    "    ),\n",
    "    Style(\n",
    "        {\n",
    "            \"fontSize\": 20,\n",
    "            \"title\": {\"fontWeight\": 300, \"paddingTop\": 50, \"paddingBottom\": 0},\n",
    "            \"plot\": {\n",
    "                \"marker\": {\n",
    "                    \"borderWidth\": 3,\n",
    "                    \"borderOpacity\": 0,\n",
    "                    \"colorPalette\": \"#1EB55FFF #AD0000FF #AEAEAEFF\",\n",
    "                    \"colorGradient\": \"#AEAEAEFF 0.000000, #AD0000FF 0.500000, #1EB55FFF 1.000000\",\n",
    "                },\n",
    "                \"paddingLeft\": 20,\n",
    "                \"paddingBottom\": \"3.5em\",\n",
    "                \"paddingTop\": \"2.5em\",\n",
    "                \"xAxis\": {\"interlacing\": {\"color\": \"#ffffff00\"}},\n",
    "                \"yAxis\": {\"label\": {\"fontSize\": \"120%\"}},\n",
    "            },\n",
    "            \"logo\": {\"width\": 100},\n",
    "        }\n",
    "    ),\n",
    ")"
   ]
  },
  {
   "cell_type": "code",
   "execution_count": null,
   "id": "3c698178",
   "metadata": {},
   "outputs": [],
   "source": [
    "chart.animate(\n",
    "    Config({\"lightness\": \"Won\", \"title\": \"Won 112 out of 116 (96.5%)\"}),\n",
    "    Style({\"plot\": {\"marker\": {\"maxLightness\": 0, \"minLightness\": 0.8}}}),\n",
    "    delay=4,\n",
    ")"
   ]
  },
  {
   "cell_type": "code",
   "execution_count": null,
   "id": "f5c51b56",
   "metadata": {},
   "outputs": [],
   "source": [
    "chart.animate(\n",
    "    Config({\"lightness\": \"Lost\", \"title\": \"Lost 3 times, retired once\"}), delay=4\n",
    ")"
   ]
  },
  {
   "cell_type": "code",
   "execution_count": null,
   "id": "2a894ea2",
   "metadata": {},
   "outputs": [],
   "source": [
    "chart.animate(\n",
    "    Config({\"lightness\": None, \"title\": \"\"}),\n",
    "    Style({\"plot\": {\"marker\": {\"maxLightness\": None, \"minLightness\": None}}}),\n",
    "    delay=4,\n",
    ")"
   ]
  },
  {
   "cell_type": "code",
   "execution_count": null,
   "id": "b16c9464",
   "metadata": {},
   "outputs": [],
   "source": [
    "chart.animate(\n",
    "    Config({\"lightness\": \"3SetWin\", \"title\": \"90 wins (80%) in straight sets\"}),\n",
    "    Style({\"plot\": {\"marker\": {\"maxLightness\": 0, \"minLightness\": 0.8}}}),\n",
    ")"
   ]
  },
  {
   "cell_type": "code",
   "execution_count": null,
   "id": "bb6a747c",
   "metadata": {},
   "outputs": [],
   "source": [
    "chart.animate(\n",
    "    Config(\n",
    "        {\"lightness\": \"Straightwin\", \"title\": \"Won 4 titles without dropping a set\"}\n",
    "    ),\n",
    "    delay=3,\n",
    ")"
   ]
  },
  {
   "cell_type": "code",
   "execution_count": null,
   "id": "2b395458",
   "metadata": {},
   "outputs": [],
   "source": [
    "chart.animate(\n",
    "    Config({\"lightness\": None, \"title\": \"\"}),\n",
    "    Style({\"plot\": {\"marker\": {\"maxLightness\": None, \"minLightness\": None}}}),\n",
    "    delay=4,\n",
    ")"
   ]
  },
  {
   "cell_type": "code",
   "execution_count": null,
   "id": "b16151ba",
   "metadata": {},
   "outputs": [],
   "source": [
    "chart.animate(\n",
    "    Config(\n",
    "        {\n",
    "            \"lightness\": \"Novak\",\n",
    "            \"title\": \"Played the most times against Djokovic - 10 matches\",\n",
    "        }\n",
    "    ),\n",
    "    Style({\"plot\": {\"marker\": {\"maxLightness\": 0, \"minLightness\": 0.8}}}),\n",
    ")"
   ]
  },
  {
   "cell_type": "code",
   "execution_count": null,
   "id": "09e46943",
   "metadata": {},
   "outputs": [],
   "source": [
    "chart.animate(\n",
    "    Config(\n",
    "        {\n",
    "            \"lightness\": \"Roger\",\n",
    "            \"title\": \"Second on this list is Federer - with 6 encounters\",\n",
    "        }\n",
    "    ),\n",
    "    delay=4,\n",
    ")"
   ]
  },
  {
   "cell_type": "code",
   "execution_count": null,
   "id": "177af633",
   "metadata": {},
   "outputs": [],
   "source": [
    "chart.animate(\n",
    "    Config({\"lightness\": \"Final\", \"title\": \"Rafa won all of his 14 finals\"}), delay=4\n",
    ")"
   ]
  },
  {
   "cell_type": "code",
   "execution_count": null,
   "id": "a873a4df",
   "metadata": {},
   "outputs": [],
   "source": [
    "chart.animate(\n",
    "    data.filter('record.Year != \"Total\" && record.Round == \"F\"'),\n",
    "    Config(\n",
    "        {\n",
    "            \"y\": {\"set\": \"Round2\", \"range\": {\"max\": 1, \"min\": -5}},\n",
    "            \"x\": \"Count\",\n",
    "            \"lightness\": None,\n",
    "            \"noop\": \"Year\",\n",
    "            \"label\": None,\n",
    "            \"title\": \"\",\n",
    "        }\n",
    "    ),\n",
    "    Style(\n",
    "        {\n",
    "            \"plot\": {\n",
    "                \"marker\": {\n",
    "                    \"borderWidth\": 0,\n",
    "                    \"colorPalette\": \"#C6652A #CDA02E #47B0FF #329564 #5C88F2 #91A9B5 #DBC4B1\",\n",
    "                    \"maxLightness\": None,\n",
    "                    \"minLightness\": None,\n",
    "                    \"label\": {\"position\": \"center\", \"format\": \"dimensionsFirst\"},\n",
    "                },\n",
    "                \"xAxis\": {\n",
    "                    \"title\": {\"color\": \"#ffffff00\"},\n",
    "                    \"label\": {\"color\": \"#ffffff00\"},\n",
    "                    \"interlacing\": {\"color\": \"#ffffff00\"},\n",
    "                },\n",
    "                \"yAxis\": {\n",
    "                    \"title\": {\"color\": \"#ffffff00\"},\n",
    "                    \"label\": {\"color\": \"#ffffff00\", \"fontSize\": None},\n",
    "                },\n",
    "            }\n",
    "        }\n",
    "    ),\n",
    "    delay=3,\n",
    ")"
   ]
  },
  {
   "cell_type": "code",
   "execution_count": null,
   "id": "796b6b59",
   "metadata": {},
   "outputs": [],
   "source": [
    "chart.animate(\n",
    "    data.filter(\n",
    "        \"\"\"\n",
    "        record.Year == \"Total\" &&\n",
    "        record.Tournament == \"Roland Garros\" &&\n",
    "        record.Player == \"Nadal\"\n",
    "        \"\"\"\n",
    "    ),\n",
    "    Config(\n",
    "        {\n",
    "            \"noop\": [\"Level\", \"Round2\"],\n",
    "            \"label\": [\"Player\", \"Tournament\", \"Count\"],\n",
    "            \"y\": {\"set\": [\"Player\", \"Tournament\"]},\n",
    "        }\n",
    "    ),\n",
    "    duration=0,\n",
    ")"
   ]
  },
  {
   "cell_type": "code",
   "execution_count": null,
   "id": "17ca986b",
   "metadata": {},
   "outputs": [],
   "source": [
    "chart.animate(Config({\"noop\": \"Level\"}), duration=0)"
   ]
  },
  {
   "cell_type": "code",
   "execution_count": null,
   "id": "9dd926aa",
   "metadata": {},
   "outputs": [],
   "source": [
    "chart.animate(\n",
    "    data.filter('record.Year == \"Total\" && record.Round == \"GS\" && record.Top == \"1\"'),\n",
    "    Config(\n",
    "        {\n",
    "            \"y\": {\n",
    "                \"set\": [\"Player\", \"Tournament\", \"Level\"],\n",
    "                \"range\": {\"max\": None, \"min\": None},\n",
    "            },\n",
    "            \"title\": \"Rafa won the same Grand Slam title the most times\",\n",
    "            \"color\": \"Level\",\n",
    "            \"legend\": \"color\",\n",
    "            \"noop\": None,\n",
    "            \"sort\": \"byValue\",\n",
    "        }\n",
    "    ),\n",
    ")"
   ]
  },
  {
   "cell_type": "code",
   "execution_count": null,
   "id": "c8041896",
   "metadata": {},
   "outputs": [],
   "source": [
    "chart.animate(\n",
    "    data.filter('record.Year == \"Total\" && record.Top == \"1\"'),\n",
    "    Config(\n",
    "        {\n",
    "            \"y\": {\n",
    "                \"set\": [\"Player\", \"Tournament\", \"Level\"],\n",
    "                \"range\": {\"max\": 19, \"min\": 7},\n",
    "            },\n",
    "            \"x\": [\"Count\"],\n",
    "            \"title\": \"Winning the same ATP title - Rafa is 1st, 2nd, 3rd & 4th!\",\n",
    "        }\n",
    "    ),\n",
    "    delay=5,\n",
    ")"
   ]
  },
  {
   "cell_type": "code",
   "execution_count": null,
   "id": "d63cff5c",
   "metadata": {},
   "outputs": [],
   "source": [
    "chart.animate(\n",
    "    data.filter('record.Year == \"Total\" && record.Round == \"GS\" && record.Top == \"1\"'),\n",
    "    Config(\n",
    "        {\n",
    "            \"y\": {\n",
    "                \"set\": [\"Player\", \"Tournament\", \"Level\"],\n",
    "                \"range\": {\"max\": None, \"min\": None},\n",
    "            },\n",
    "            \"x\": [\"Count\"],\n",
    "            \"title\": \"\",\n",
    "            \"color\": \"Level\",\n",
    "        }\n",
    "    ),\n",
    "    delay=5,\n",
    ")"
   ]
  },
  {
   "cell_type": "code",
   "execution_count": null,
   "id": "93d92687",
   "metadata": {},
   "outputs": [],
   "source": [
    "chart.animate(Config({\"x\": [\"Count\", \"Total_GS\"], \"label\": \"Player\"}))"
   ]
  },
  {
   "cell_type": "code",
   "execution_count": null,
   "id": "75170f6a",
   "metadata": {},
   "outputs": [],
   "source": [
    "chart.animate(\n",
    "    data.filter('record.Year == \"Total\" && record.Round == \"GS\"'),\n",
    "    Config(\n",
    "        {\n",
    "            \"y\": {\"set\": [\"Player\"], \"range\": {\"max\": None, \"min\": None}},\n",
    "            \"x\": [\"Count\", \"Tournament\", \"Level\", \"Total_GS\"],\n",
    "            \"title\": \"Rafa also leads in the number of total Grand Slams won\",\n",
    "        }\n",
    "    ),\n",
    ")"
   ]
  },
  {
   "cell_type": "code",
   "execution_count": null,
   "id": "35352b21",
   "metadata": {},
   "outputs": [],
   "source": [
    "chart.animate(\n",
    "    Config({\"label\": [\"Total_GS\"]}),\n",
    "    Style(\n",
    "        {\n",
    "            \"plot\": {\n",
    "                \"marker\": {\"label\": {\"position\": \"right\", \"filter\": \"color(#666666FF)\"}}\n",
    "            }\n",
    "        }\n",
    "    ),\n",
    ")"
   ]
  },
  {
   "cell_type": "markdown",
   "id": "80efb708",
   "metadata": {},
   "source": [
    "Back to the [Examples](../../examples.ipynb) ----- Back to the [Table of contents](../../../doc.ipynb#tutorial)"
   ]
  }
 ],
 "metadata": {
  "interpreter": {
   "hash": "2e50075cb65be572eee3efb989bcc5a9bc098481ca6ec40cee600c08a8570c22"
  },
  "kernelspec": {
   "display_name": ".venv",
   "language": "python",
   "name": ".venv"
  },
  "language_info": {
   "codemirror_mode": {
    "name": "ipython",
    "version": 3
   },
   "file_extension": ".py",
   "mimetype": "text/x-python",
   "name": "python",
   "nbconvert_exporter": "python",
   "pygments_lexer": "ipython3",
   "version": "3.8.10"
  },
  "title": "ipyvizzu - Example"
 },
 "nbformat": 4,
 "nbformat_minor": 5
}
