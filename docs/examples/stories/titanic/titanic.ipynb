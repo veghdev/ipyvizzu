{
 "cells": [
  {
   "cell_type": "markdown",
   "metadata": {
    "scrolled": true
   },
   "source": [
    "**Note:** The data used in this example is available [here](https://github.com/vizzuhq/ipyvizzu/blob/gh-pages/docs/examples/stories/titanic/titanic.csv). You can read more about the available types of data in the [Adding data](../../../tutorial/01_02_adding_data.ipynb) chapter."
   ]
  },
  {
   "cell_type": "code",
   "execution_count": null,
   "metadata": {},
   "outputs": [],
   "source": [
    "import pandas as pd\n",
    "from ipyvizzu import Chart, Data, Config, DisplayTarget\n",
    "\n",
    "data_frame = pd.read_csv(\"./titanic.csv\")\n",
    "data = Data()\n",
    "data.add_data_frame(data_frame)\n",
    "\n",
    "chart = Chart(display=DisplayTarget.END)\n",
    "\n",
    "chart.animate(data)\n",
    "\n",
    "chart.animate(\n",
    "    Config(\n",
    "        {\n",
    "            \"x\": \"Count\",\n",
    "            \"y\": \"Sex\",\n",
    "            \"label\": \"Count\",\n",
    "            \"title\": \"Passengers of the Titanic\",\n",
    "        }\n",
    "    )\n",
    ")\n",
    "chart.animate(\n",
    "    Config(\n",
    "        {\n",
    "            \"x\": [\"Count\", \"Survived\"],\n",
    "            \"label\": [\"Count\", \"Survived\"],\n",
    "            \"color\": \"Survived\",\n",
    "        }\n",
    "    )\n",
    ")\n",
    "chart.animate(Config({\"x\": \"Count\", \"y\": [\"Sex\", \"Survived\"]}))"
   ]
  },
  {
   "cell_type": "code",
   "execution_count": null,
   "metadata": {},
   "outputs": [],
   "source": [
    "chart.animate(\n",
    "    Config({\"x\": [\"Count\", \"Sex\", \"Survived\"], \"y\": None, \"coordSystem\": \"polar\"})\n",
    ")"
   ]
  },
  {
   "cell_type": "markdown",
   "metadata": {},
   "source": [
    "Back to the [Examples](../../examples.ipynb) ----- Back to the [Table of contents](../../../doc.ipynb#tutorial)"
   ]
  }
 ],
 "metadata": {
  "kernelspec": {
   "display_name": ".venv",
   "language": "python",
   "name": ".venv"
  },
  "language_info": {
   "codemirror_mode": {
    "name": "ipython",
    "version": 3
   },
   "file_extension": ".py",
   "mimetype": "text/x-python",
   "name": "python",
   "nbconvert_exporter": "python",
   "pygments_lexer": "ipython3",
   "version": "3.8.10"
  },
  "title": "ipyvizzu - Story"
 },
 "nbformat": 4,
 "nbformat_minor": 2
}
