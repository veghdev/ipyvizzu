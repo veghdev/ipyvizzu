{
 "cells": [
  {
   "cell_type": "markdown",
   "metadata": {},
   "source": [
    "**Note:** The data used in this example is available [here](https://github.com/vizzuhq/ipyvizzu/blob/gh-pages/docs/examples/stories/music/music.csv). You can read more about the available types of data in the [Adding data](../../../tutorial/01_02_adding_data.ipynb) chapter."
   ]
  },
  {
   "cell_type": "code",
   "execution_count": null,
   "metadata": {
    "scrolled": true
   },
   "outputs": [],
   "source": [
    "import pandas as pd\n",
    "from ipyvizzu import Chart, Data, Config, Style, DisplayTarget\n",
    "\n",
    "data_frame = pd.read_csv(\"./music.csv\", dtype={\"Year\": str})\n",
    "data = Data()\n",
    "data.add_data_frame(data_frame)\n",
    "\n",
    "chart = Chart(display=DisplayTarget.END)\n",
    "\n",
    "chart.animate(data)\n",
    "\n",
    "chart.animate(\n",
    "    Config(\n",
    "        {\n",
    "            \"x\": \"Year\",\n",
    "            \"y\": [\"Format\", \"Revenue [m$]\"],\n",
    "            \"color\": \"Format\",\n",
    "            \"geometry\": \"area\",\n",
    "            \"align\": \"center\",\n",
    "            \"title\": \"Revenue by Music Format 1973-2020\",\n",
    "        }\n",
    "    ),\n",
    "    Style(\n",
    "        {\n",
    "            \"plot\": {\n",
    "                \"xAxis\": {\"label\": {\"fontSize\": 9, \"angle\": 2.0}},\n",
    "                \"marker\": {\n",
    "                    \"colorPalette\": \"#b74c20FF #c47f58FF #1c9761FF #ea4549FF #875792FF #3562b6FF #ee7c34FF #efae3aFF\"\n",
    "                },\n",
    "            }\n",
    "        }\n",
    "    ),\n",
    ")\n",
    "\n",
    "chart.animate(\n",
    "    Config({\"align\": \"stretch\", \"title\": \"Revenue by Music Format 1973-2020(%)\"}),\n",
    "    delay=1,\n",
    ")\n",
    "\n",
    "chart.animate(\n",
    "    Config({\"align\": \"center\", \"title\": \"Revenue by Music Format 1973-2020\"}), delay=1\n",
    ")\n",
    "\n",
    "chart.animate(Config({\"split\": True}), delay=1)\n",
    "\n",
    "chart.animate(\n",
    "    Data.filter(\"record.Format == 'Vinyl' ||record.Format == 'Streaming'\"),\n",
    "    Config({\"title\": \"Revenue of Vinyl & Streaming 1973-2020\"}),\n",
    "    delay=1,\n",
    ")\n",
    "\n",
    "chart.animate(\n",
    "    Data.filter(None),\n",
    "    Config({\"title\": \"Revenue by Music Format 1973-2020\", \"split\": False}),\n",
    "    delay=1,\n",
    ")\n",
    "\n",
    "chart.animate(\n",
    "    Config(\n",
    "        {\n",
    "            \"x\": \"Year\",\n",
    "            \"y\": \"Revenue [m$]\",\n",
    "            \"noop\": \"Format\",\n",
    "            \"align\": \"none\",\n",
    "            \"geometry\": \"line\",\n",
    "        }\n",
    "    ),\n",
    "    delay=1,\n",
    ")"
   ]
  },
  {
   "cell_type": "markdown",
   "metadata": {},
   "source": [
    "Back to the [Examples](../../examples.ipynb) ----- Back to the [Table of contents](../../../doc.ipynb#tutorial)"
   ]
  }
 ],
 "metadata": {
  "kernelspec": {
   "display_name": ".venv",
   "language": "python",
   "name": ".venv"
  },
  "language_info": {
   "codemirror_mode": {
    "name": "ipython",
    "version": 3
   },
   "file_extension": ".py",
   "mimetype": "text/x-python",
   "name": "python",
   "nbconvert_exporter": "python",
   "pygments_lexer": "ipython3",
   "version": "3.8.10"
  },
  "title": "ipyvizzu - Story"
 },
 "nbformat": 4,
 "nbformat_minor": 2
}
