{
 "cells": [
  {
   "cell_type": "markdown",
   "metadata": {},
   "source": [
    "**Note:** The data used in this example is available [here](https://github.com/vizzuhq/ipyvizzu/blob/gh-pages/docs/examples/stories/sales/sales.csv). You can read more about the available types of data in the [Adding data](../../../tutorial/01_02_adding_data.ipynb) chapter."
   ]
  },
  {
   "cell_type": "code",
   "execution_count": null,
   "metadata": {
    "scrolled": true
   },
   "outputs": [],
   "source": [
    "import pandas as pd\n",
    "from ipyvizzu import Chart, Data, Config, Style, DisplayTarget\n",
    "\n",
    "data_frame = pd.read_csv(\"./sales.csv\", dtype={\"tenure\": str})\n",
    "data = Data()\n",
    "data.add_data_frame(data_frame)\n",
    "\n",
    "chart = Chart(display=DisplayTarget.END)\n",
    "\n",
    "chart.animate(data)\n",
    "\n",
    "chart.animate(\n",
    "    Data.filter(\"record['Product'] == 'Shoes'\"),\n",
    "    Config(\n",
    "        {\n",
    "            \"x\": \"Region\",\n",
    "            \"y\": [\"Sales\", \"Product\"],\n",
    "            \"label\": \"Sales\",\n",
    "            \"color\": \"Product\",\n",
    "            \"title\": \"Sales of Shoes\",\n",
    "        }\n",
    "    ),\n",
    ")\n",
    "\n",
    "chart.animate(\n",
    "    Data.filter(\"record['Product'] == 'Shoes' || record['Product'] == 'Handbags'\"),\n",
    "    Config({\"title\": \"Sales of Shoes & Handbags\"}),\n",
    "    delay=1,\n",
    ")\n",
    "\n",
    "chart.animate(\n",
    "    Data.filter(\"record['Product'] != 'Accessories'\"),\n",
    "    Config({\"title\": \"Sales of Shoes, Handbags & Gloves\"}),\n",
    "    delay=1,\n",
    ")\n",
    "\n",
    "chart.animate(Data.filter(None), Config({\"title\": \"Sales of All Products\"}), delay=1)\n",
    "\n",
    "chart.animate(\n",
    "    Config(\n",
    "        {\n",
    "            \"y\": [\"Revenue [$]\", \"Product\"],\n",
    "            \"label\": \"Revenue [$]\",\n",
    "            \"title\": \"Revenue of All Products\",\n",
    "        }\n",
    "    ),\n",
    "    delay=1,\n",
    ")\n",
    "\n",
    "chart.animate(Config({\"x\": [\"Region\", \"Revenue [$]\"], \"y\": \"Product\"}), delay=2)\n",
    "\n",
    "chart.animate(Config({\"x\": \"Revenue [$]\", \"y\": \"Product\"}))\n",
    "\n",
    "chart.animate(Config({\"coordSystem\": \"polar\", \"sort\": \"byValue\"}), delay=1)"
   ]
  },
  {
   "cell_type": "markdown",
   "metadata": {},
   "source": [
    "Back to the [Examples](../../examples.ipynb) ----- Back to the [Table of contents](../../../doc.ipynb#tutorial)"
   ]
  }
 ],
 "metadata": {
  "kernelspec": {
   "display_name": "Python 3 (ipykernel)",
   "language": "python",
   "name": "python3"
  },
  "language_info": {
   "codemirror_mode": {
    "name": "ipython",
    "version": 3
   },
   "file_extension": ".py",
   "mimetype": "text/x-python",
   "name": "python",
   "nbconvert_exporter": "python",
   "pygments_lexer": "ipython3",
   "version": "3.8.10"
  },
  "title": "ipyvizzu - Story"
 },
 "nbformat": 4,
 "nbformat_minor": 2
}
